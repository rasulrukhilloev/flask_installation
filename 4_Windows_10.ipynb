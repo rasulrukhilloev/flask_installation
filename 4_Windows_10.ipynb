{
 "cells": [
  {
   "cell_type": "markdown",
   "metadata": {},
   "source": [
    "### For Windows (tested on win10)"
   ]
  },
  {
   "cell_type": "markdown",
   "metadata": {},
   "source": [
    "Requirement: You should have Python 3 or above version before proceeding."
   ]
  },
  {
   "cell_type": "markdown",
   "metadata": {},
   "source": [
    "<b>To check Python version:</b><br>\n",
    "Search and open \"Command Prompt\"<br>\n",
    "Type the following: <br>\n",
    "                    $$python --version$$\n",
    "                    "
   ]
  },
  {
   "cell_type": "markdown",
   "metadata": {},
   "source": []
  },
  {
   "cell_type": "markdown",
   "metadata": {},
   "source": [
    "Make sure you have set the PATH for python and PIP(package management system for Python libraries)."
   ]
  },
  {
   "cell_type": "markdown",
   "metadata": {},
   "source": [
    "<b>To check the PATH:</b><br>\n",
    "Type the following in cmd: $$pip$$ "
   ]
  },
  {
   "cell_type": "markdown",
   "metadata": {},
   "source": [
    "### Creating Virtual Environment"
   ]
  },
  {
   "cell_type": "markdown",
   "metadata": {},
   "source": [
    "Search and open \"Command Prompt\"<br>\n",
    "Type the following:\n",
    "~~~Python \n",
    "mkdir flask-app\n",
    "~~~\n",
    "mkdir - creating a directory(folder) called \"flask-app\""
   ]
  },
  {
   "cell_type": "markdown",
   "metadata": {},
   "source": [
    "~~~Python\n",
    "cd flask-app \n",
    "~~~\n",
    "cd folder_name - It changes current directory into flask-app folder"
   ]
  },
  {
   "cell_type": "markdown",
   "metadata": {},
   "source": [
    "~~~Python\n",
    "py -3 -m  venv flask-app \n",
    "~~~\n",
    "Creating the Virtual Environment where Flask will be installed "
   ]
  },
  {
   "cell_type": "markdown",
   "metadata": {},
   "source": [
    "~~~Python\n",
    "flask-app\\Scripts\\activate\n",
    "~~~\n",
    "Activating the Virtual Environment, you should have paranthesis before the path like this:\n",
    "<img src=\"images\\virtual_env.png\">"
   ]
  },
  {
   "cell_type": "markdown",
   "metadata": {},
   "source": [
    "### Installing Flask\n"
   ]
  },
  {
   "cell_type": "markdown",
   "metadata": {},
   "source": [
    "~~~Python\n",
    "pip install Flask\n",
    "~~~\n",
    "Installing Flask"
   ]
  },
  {
   "cell_type": "markdown",
   "metadata": {},
   "source": [
    "### Creating HelloWorld app"
   ]
  },
  {
   "cell_type": "markdown",
   "metadata": {},
   "source": [
    "Let's create basic \"Hello World\" app<br>\n",
    "Copy and paste the following code in your Editor(Notepad++, Sublime, Atom, VS code) and save it as <b>.py</b><br>\n",
    "If you do not have any editor, you can create a <b>.py</b> file in command line like shown:<br>\n",
    "~~~Python\n",
    "con>flask-app.py    (type this & hit Enter)\n",
    "~~~\n",
    "(copy and paste the following code)\n",
    "~~~Python\n",
    "from flask import Flask \n",
    "app = Flask(__name__)\n",
    "\n",
    "@app.route('/')\n",
    "def hello_world():\n",
    "    return 'Hello, World!'\n",
    "~~~\n",
    "(and hit Ctrl+C)"
   ]
  },
  {
   "cell_type": "markdown",
   "metadata": {},
   "source": [
    "### Running HelloWorld app"
   ]
  },
  {
   "cell_type": "markdown",
   "metadata": {},
   "source": [
    "~~~Python\n",
    "set flask_app=flask-app.py\n",
    "flask run\n",
    "~~~\n",
    "You have to set your main python file before running. So when you run flask, it will search for that file and run it automatically"
   ]
  },
  {
   "cell_type": "markdown",
   "metadata": {},
   "source": [
    "Open browser and go to http://127.0.0.1:5000/ and you should have something like this:\n",
    "<img src=\"images/run_flask.png\">"
   ]
  },
  {
   "cell_type": "markdown",
   "metadata": {},
   "source": [
    "That's it, you have developed your first Flask application"
   ]
  }
 ],
 "metadata": {
  "kernelspec": {
   "display_name": "Python 3",
   "language": "python",
   "name": "python3"
  },
  "language_info": {
   "codemirror_mode": {
    "name": "ipython",
    "version": 3
   },
   "file_extension": ".py",
   "mimetype": "text/x-python",
   "name": "python",
   "nbconvert_exporter": "python",
   "pygments_lexer": "ipython3",
   "version": "3.7.1"
  }
 },
 "nbformat": 4,
 "nbformat_minor": 2
}
